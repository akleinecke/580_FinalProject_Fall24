{
 "cells": [
  {
   "cell_type": "markdown",
   "id": "50a3deee-dde8-4bff-913c-136a8d12c7f8",
   "metadata": {},
   "source": [
    "## 1) Load Images\n",
    "\n",
    "Before we can begin, we need to load and convert our 28 x 28 pixel PNG images into a machine readable format."
   ]
  },
  {
   "cell_type": "code",
   "execution_count": 13,
   "id": "314520e7-7264-4933-b975-388150bc2a0b",
   "metadata": {},
   "outputs": [],
   "source": [
    "# Import necessary packages\n",
    "import os\n",
    "import struct\n",
    "import numpy as np\n",
    "from PIL import Image\n",
    "import torch\n",
    "\n",
    "# Import helpers\n",
    "import matplotlib.pyplot as plt"
   ]
  },
  {
   "cell_type": "markdown",
   "id": "519fbfec-aecc-4aff-8bcf-a9bba0dbc7dd",
   "metadata": {},
   "source": [
    "### Convert our Images and Create Labels\n",
    "\n",
    "First, we need to convert our PNG images and create labels for them.\n",
    "\n",
    "The MNIST dataset uses images in a idx3-ubyte format and labels in idx1-ubyte format; therefore it seems reasonable to follow suit and convert ours to match."
   ]
  },
  {
   "cell_type": "code",
   "execution_count": 15,
   "id": "62e9c528-21a8-441e-92e0-b13187a91b95",
   "metadata": {},
   "outputs": [
    {
     "ename": "TypeError",
     "evalue": "slice indices must be integers or None or have an __index__ method",
     "output_type": "error",
     "traceback": [
      "\u001b[1;31m---------------------------------------------------------------------------\u001b[0m",
      "\u001b[1;31mTypeError\u001b[0m                                 Traceback (most recent call last)",
      "Cell \u001b[1;32mIn[15], line 55\u001b[0m\n\u001b[0;32m     53\u001b[0m output_image_file \u001b[38;5;241m=\u001b[39m os\u001b[38;5;241m.\u001b[39mpath\u001b[38;5;241m.\u001b[39mjoin(output_folder, \u001b[38;5;124m\"\u001b[39m\u001b[38;5;124mGroup5.Digits.Images.idx3-ubyte\u001b[39m\u001b[38;5;124m\"\u001b[39m)\n\u001b[0;32m     54\u001b[0m output_label_file \u001b[38;5;241m=\u001b[39m os\u001b[38;5;241m.\u001b[39mpath\u001b[38;5;241m.\u001b[39mjoin(output_folder, \u001b[38;5;124m\"\u001b[39m\u001b[38;5;124mGroup5.Digits.Labels.idx1-ubyte\u001b[39m\u001b[38;5;124m\"\u001b[39m)\n\u001b[1;32m---> 55\u001b[0m \u001b[43mconvert\u001b[49m\u001b[43m(\u001b[49m\u001b[43minput_folder\u001b[49m\u001b[43m,\u001b[49m\u001b[43m \u001b[49m\u001b[43moutput_image_file\u001b[49m\u001b[43m,\u001b[49m\u001b[43m \u001b[49m\u001b[43moutput_label_file\u001b[49m\u001b[43m)\u001b[49m\n",
      "Cell \u001b[1;32mIn[15], line 35\u001b[0m, in \u001b[0;36mconvert\u001b[1;34m(input_folder, output_image_file, output_label_file)\u001b[0m\n\u001b[0;32m     32\u001b[0m labels \u001b[38;5;241m=\u001b[39m []\n\u001b[0;32m     34\u001b[0m \u001b[38;5;28;01mfor\u001b[39;00m filename \u001b[38;5;129;01min\u001b[39;00m os\u001b[38;5;241m.\u001b[39mlistdir(input_folder):\n\u001b[1;32m---> 35\u001b[0m     \u001b[38;5;28;01mif\u001b[39;00m \u001b[43mfilename\u001b[49m\u001b[38;5;241;43m.\u001b[39;49m\u001b[43mendswith\u001b[49m\u001b[43m(\u001b[49m\u001b[38;5;124;43m\"\u001b[39;49m\u001b[38;5;124;43m.png\u001b[39;49m\u001b[38;5;124;43m\"\u001b[39;49m\u001b[43m,\u001b[49m\u001b[43m \u001b[49m\u001b[38;5;124;43m\"\u001b[39;49m\u001b[38;5;124;43m.jpg\u001b[39;49m\u001b[38;5;124;43m\"\u001b[39;49m\u001b[43m,\u001b[49m\u001b[43m \u001b[49m\u001b[38;5;124;43m\"\u001b[39;49m\u001b[38;5;124;43m.jpeg\u001b[39;49m\u001b[38;5;124;43m\"\u001b[39;49m\u001b[43m)\u001b[49m:\n\u001b[0;32m     36\u001b[0m         \u001b[38;5;66;03m# get label from Group5.Digits.<label char>_##.png\u001b[39;00m\n\u001b[0;32m     37\u001b[0m         label \u001b[38;5;241m=\u001b[39m filename\u001b[38;5;241m.\u001b[39msplit(\u001b[38;5;124m'\u001b[39m\u001b[38;5;124m.\u001b[39m\u001b[38;5;124m'\u001b[39m)[\u001b[38;5;241m2\u001b[39m][\u001b[38;5;241m0\u001b[39m]\n\u001b[0;32m     38\u001b[0m         \u001b[38;5;66;03m# opena nd convert to greyscale\u001b[39;00m\n",
      "\u001b[1;31mTypeError\u001b[0m: slice indices must be integers or None or have an __index__ method"
     ]
    }
   ],
   "source": [
    "# Function to convert image to numpy array (grayscale or RGB)\n",
    "def image_to_array(image_path):\n",
    "    image = Image.open(image_path).convert('L')  # Convert to grayscale (L mode)\n",
    "    return np.array(image)\n",
    "\n",
    "#write to idx3 for images and idx1 for labels\n",
    "def write_idx(images, labels, output_image_file, output_label_file):\n",
    "    # Write the images in IDX3 format\n",
    "    with open(output_image_file, 'wb') as f:\n",
    "        f.write(struct.pack(\">I\", 2051))  # Magic number for images (2051)\n",
    "        \n",
    "        # Number of images, rows, cols\n",
    "        f.write(struct.pack(\">I\", len(images)))  # Number of images\n",
    "        f.write(struct.pack(\">I\", 28))  # Rows and columns (28X28 image)\n",
    "        f.write(struct.pack(\">I\", 28))\n",
    "        \n",
    "        for image in images:\n",
    "            # Write each image as a flat byte array\n",
    "            f.write(image.tobytes())\n",
    "            \n",
    "    # Write the labels in IDX3 format\n",
    "    with open(output_label_file, 'wb') as f:\n",
    "        # Magic number for labels\n",
    "        f.write(struct.pack(\">I\", 2049))  # Magic number for labels (2049)\n",
    "        \n",
    "        # Number of labels\n",
    "        f.write(struct.pack(\">I\", len(labels)))  # Number of labels\n",
    "        \n",
    "        for label in labels:\n",
    "            # Write the label as a single byte\n",
    "            f.write(struct.pack(\"B\", label))\n",
    "\n",
    "# Run our conversions for each image file\n",
    "def convert(input_folder, output_image_file, output_label_file):\n",
    "    images = []\n",
    "    labels = []\n",
    "    \n",
    "    for filename in os.listdir(input_folder):\n",
    "        if filename.endswith(\".png\", \".jpg\", \".jpeg\"):\n",
    "            # get label from Group5.Digits.<label char>_##.png\n",
    "            label = filename[14]\n",
    "            \n",
    "            # opena nd convert to greyscale\n",
    "            image = Image.open(os.path.join(input_folder, filename)).convert('L') \n",
    "            \n",
    "            # Add image as array and add the label\n",
    "            images.append(np.array(image))\n",
    "            labels.append(int(label))\n",
    "            \n",
    "    # Convert to numpy array\n",
    "    images = np.array(images)\n",
    "    labels = np.array(labels)\n",
    "    \n",
    "     # Flatten images\n",
    "    images = images.reshape(len(images), -1)\n",
    "    \n",
    "    # Write our new files for later usage\n",
    "    write_idx(images, labels, output_image_file, output_label_file)\n",
    "\n",
    "# File Paths\n",
    "input_folder = \"./image_files/digits/\"\n",
    "output_folder = \"./train_data/\"\n",
    "output_image_file = os.path.join(output_folder, \"Group5.Digits.Images.idx3-ubyte\")\n",
    "output_label_file = os.path.join(output_folder, \"Group5.Digits.Labels.idx1-ubyte\")\n",
    "\n",
    "# Convert to IDX format\n",
    "convert(input_folder, output_image_file, output_label_file)\n"
   ]
  },
  {
   "cell_type": "markdown",
   "id": "caf0ac0e-ff3d-4120-b6bd-506a2ee80d50",
   "metadata": {},
   "source": [
    "### Visualize the Data\n",
    "\n",
    "Just to show that everything works, we can now visualize the data from its IDX3 and IBX1 image and label formats."
   ]
  },
  {
   "cell_type": "code",
   "execution_count": null,
   "id": "9741cb0e-32dd-4782-b1b5-435b1dd44e8f",
   "metadata": {},
   "outputs": [],
   "source": [
    "# Open the new idx3 file for images\n",
    "def read_images(file_path):\n",
    "    with open(file_path, 'rb') as f:\n",
    "        magic, num_images, num_rows, num_cols = struct.unpack('>IIII', f.read(16))\n",
    "        images = np.frombuffer(f.read(), dtype=np.uint8).reshape(num_images, num_rows * num_cols)\n",
    "    return images\n",
    "\n",
    "# Open the new idx1 file for labels\n",
    "def read_labels(file_path):\n",
    "    with open(file_path, 'rb') as f:\n",
    "        magic, num_labels = struct.unpack('>II', f.read(8))\n",
    "        labels = np.frombuffer(f.read(), dtype=np.uint8)\n",
    "    return labels\n",
    "\n",
    "# Call our functions and store our images and labels\n",
    "images = read_images('./train_data/Group5.Digits.Images.idx3-ubyte')\n",
    "labels = read_labels('./train_data/Group5.Digits.Labels.idx1-ubyte')\n",
    "\n",
    "# Create variables for display\n",
    "num_images = len(images)\n",
    "num_cols = 10\n",
    "num_rows = (num_images + num_cols - 1) // num_cols\n",
    "fig, axes = plt.subplots(num_rows, num_cols, figsize=(10, num_rows * 1.1))\n",
    "axes = axes.flatten()  \n",
    "\n",
    "# Print our plot of images and labels\n",
    "for i in range(num_images):\n",
    "    ax = axes[i]  \n",
    "    image = images[i].reshape(28, 28)  \n",
    "    ax.imshow(image, cmap='gray')  \n",
    "    ax.set_title(f\"Label: {labels[i]}\")  \n",
    "\n",
    "plt.tight_layout()\n",
    "plt.show()\n"
   ]
  },
  {
   "cell_type": "code",
   "execution_count": null,
   "id": "17706974-d12f-4882-be0b-75847470a9ec",
   "metadata": {},
   "outputs": [],
   "source": []
  }
 ],
 "metadata": {
  "kernelspec": {
   "display_name": "Python 3 (ipykernel)",
   "language": "python",
   "name": "python3"
  },
  "language_info": {
   "codemirror_mode": {
    "name": "ipython",
    "version": 3
   },
   "file_extension": ".py",
   "mimetype": "text/x-python",
   "name": "python",
   "nbconvert_exporter": "python",
   "pygments_lexer": "ipython3",
   "version": "3.8.20"
  }
 },
 "nbformat": 4,
 "nbformat_minor": 5
}
